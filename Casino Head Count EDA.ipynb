{
 "cells": [
  {
   "cell_type": "markdown",
   "metadata": {},
   "source": [
    "# Casino Head Count Exploratory Data Analysis\n",
    "\n",
    "This project focuses on the visualizations of casino head count data to provide the casino information around the popularity of each game and when to open and close specific game tables. I visually explore the data and draw three major conclusions to help the casino drive decision making."
   ]
  },
  {
   "cell_type": "markdown",
   "metadata": {},
   "source": [
    "# Dataset Description\n",
    "I've listed the provided information about the values in this dataset:\n",
    "\n",
    "GameCode: 2 digit game code:\n",
    "\n",
    "BA: Baccarat\n",
    "\n",
    "C4: Blackjack variant\n",
    "\n",
    "CR: Craps\n",
    "\n",
    "DH: Blackjack variant\n",
    "\n",
    "FP: Four Card Poker\n",
    "\n",
    "LI: Let it Ride\n",
    "\n",
    "MI: Omaha Hi-Low\n",
    "\n",
    "MQ:  Blackjack variant\n",
    "\n",
    "MR: Mini-Baccarat\n",
    "\n",
    "MS: Mississippi Stud\n",
    "\n",
    "ND: Blackjack variant\n",
    "\n",
    "PA: Pai Gow Tiles\n",
    "\n",
    "PG: Pai Gow\n",
    "\n",
    "RO: Roulette\n",
    "\n",
    "RR: Electronic Roulette\n",
    "\n",
    "S6: Big Six\n",
    "\n",
    "SH: Blackjack variant\n",
    "\n",
    "TH: Blackjack variant\n",
    "\n",
    "TL: Blackjack variant\n",
    "\n",
    "TP: Texas Hold'em Poker\n",
    "\n",
    "UT: Ultimate Texas Hold'em\n",
    "\n",
    "WR: Casino War\n",
    "\n",
    "DateFormat: Date\n",
    "\n",
    "Hour: 0-23 of the day\n",
    "\n",
    "TabelsOcc:  Number of Tables Occupied in the casino\n",
    "\n",
    "TablesOpen: Number of tables open in the casino. This number can be different than occupied because the pit boss can open a table and no one can be sitting at it.\n",
    "\n",
    "Tables Closed: Number of tables closed in the casino.\n",
    "\n",
    "HeadCount: Total Count of people at the hour, day, and table type\n",
    "\n",
    "DayOfWeek: 1-7.  1 = Sunday, 7 = Saturday.\n",
    "\n",
    "DayNumber 1-366:  Day of year.  Not really needed, but note that the dates start in September.\n"
   ]
  },
  {
   "cell_type": "markdown",
   "metadata": {},
   "source": [
    "# Load Dataset"
   ]
  },
  {
   "cell_type": "code",
   "execution_count": 1,
   "metadata": {},
   "outputs": [],
   "source": [
    "# Load libraries\n",
    "import seaborn as sns\n",
    "%matplotlib inline\n",
    "import matplotlib.pyplot as plt\n",
    "import numpy as np\n",
    "import pandas as pd\n",
    "\n",
    "# Create a variable that holds the location of the dataset\n",
    "fileLoc = \"~/Documents/UW Data Science Certificate/Methods for Data Analysis/Lesson 02 Assignment/JitteredHeadCount.csv\"\n",
    "\n",
    "# Load dataset as a .csv file from a local drive\n",
    "casino_data = pd.read_csv(fileLoc)"
   ]
  },
  {
   "cell_type": "markdown",
   "metadata": {},
   "source": [
    "# Examine dataset\n",
    "The following lines of code are executed to get an idea for the shape of the dataset and the first few rows of data."
   ]
  },
  {
   "cell_type": "code",
   "execution_count": 2,
   "metadata": {},
   "outputs": [
    {
     "name": "stdout",
     "output_type": "stream",
     "text": [
      "(175677, 9)\n",
      "GameCode        object\n",
      "DateFormat      object\n",
      "Hour             int64\n",
      "TablesOcc        int64\n",
      "TablesOpen       int64\n",
      "TablesClosed     int64\n",
      "HeadCount        int64\n",
      "DayOfWeek        int64\n",
      "DayNumber        int64\n",
      "dtype: object\n"
     ]
    },
    {
     "data": {
      "text/html": [
       "<div>\n",
       "<style scoped>\n",
       "    .dataframe tbody tr th:only-of-type {\n",
       "        vertical-align: middle;\n",
       "    }\n",
       "\n",
       "    .dataframe tbody tr th {\n",
       "        vertical-align: top;\n",
       "    }\n",
       "\n",
       "    .dataframe thead th {\n",
       "        text-align: right;\n",
       "    }\n",
       "</style>\n",
       "<table border=\"1\" class=\"dataframe\">\n",
       "  <thead>\n",
       "    <tr style=\"text-align: right;\">\n",
       "      <th></th>\n",
       "      <th>GameCode</th>\n",
       "      <th>DateFormat</th>\n",
       "      <th>Hour</th>\n",
       "      <th>TablesOcc</th>\n",
       "      <th>TablesOpen</th>\n",
       "      <th>TablesClosed</th>\n",
       "      <th>HeadCount</th>\n",
       "      <th>DayOfWeek</th>\n",
       "      <th>DayNumber</th>\n",
       "    </tr>\n",
       "  </thead>\n",
       "  <tbody>\n",
       "    <tr>\n",
       "      <th>0</th>\n",
       "      <td>BA</td>\n",
       "      <td>9/16/2011</td>\n",
       "      <td>6</td>\n",
       "      <td>0</td>\n",
       "      <td>0</td>\n",
       "      <td>1</td>\n",
       "      <td>0</td>\n",
       "      <td>6</td>\n",
       "      <td>47</td>\n",
       "    </tr>\n",
       "    <tr>\n",
       "      <th>1</th>\n",
       "      <td>BA</td>\n",
       "      <td>9/16/2011</td>\n",
       "      <td>7</td>\n",
       "      <td>0</td>\n",
       "      <td>0</td>\n",
       "      <td>1</td>\n",
       "      <td>0</td>\n",
       "      <td>6</td>\n",
       "      <td>47</td>\n",
       "    </tr>\n",
       "    <tr>\n",
       "      <th>2</th>\n",
       "      <td>BA</td>\n",
       "      <td>9/16/2011</td>\n",
       "      <td>8</td>\n",
       "      <td>0</td>\n",
       "      <td>0</td>\n",
       "      <td>1</td>\n",
       "      <td>0</td>\n",
       "      <td>6</td>\n",
       "      <td>47</td>\n",
       "    </tr>\n",
       "    <tr>\n",
       "      <th>3</th>\n",
       "      <td>BA</td>\n",
       "      <td>9/16/2011</td>\n",
       "      <td>9</td>\n",
       "      <td>0</td>\n",
       "      <td>0</td>\n",
       "      <td>1</td>\n",
       "      <td>0</td>\n",
       "      <td>6</td>\n",
       "      <td>47</td>\n",
       "    </tr>\n",
       "    <tr>\n",
       "      <th>4</th>\n",
       "      <td>BA</td>\n",
       "      <td>9/16/2011</td>\n",
       "      <td>10</td>\n",
       "      <td>0</td>\n",
       "      <td>1</td>\n",
       "      <td>0</td>\n",
       "      <td>0</td>\n",
       "      <td>6</td>\n",
       "      <td>47</td>\n",
       "    </tr>\n",
       "  </tbody>\n",
       "</table>\n",
       "</div>"
      ],
      "text/plain": [
       "  GameCode DateFormat  Hour  TablesOcc  TablesOpen  TablesClosed  HeadCount  \\\n",
       "0       BA  9/16/2011     6          0           0             1          0   \n",
       "1       BA  9/16/2011     7          0           0             1          0   \n",
       "2       BA  9/16/2011     8          0           0             1          0   \n",
       "3       BA  9/16/2011     9          0           0             1          0   \n",
       "4       BA  9/16/2011    10          0           1             0          0   \n",
       "\n",
       "   DayOfWeek  DayNumber  \n",
       "0          6         47  \n",
       "1          6         47  \n",
       "2          6         47  \n",
       "3          6         47  \n",
       "4          6         47  "
      ]
     },
     "execution_count": 2,
     "metadata": {},
     "output_type": "execute_result"
    }
   ],
   "source": [
    "# Print the shape and datatypes of the dataset\n",
    "print(casino_data.shape)\n",
    "print(casino_data.dtypes)\n",
    "\n",
    "# Print the first five rows of the dataset\n",
    "casino_data.head()\n"
   ]
  },
  {
   "cell_type": "markdown",
   "metadata": {},
   "source": [
    "# Prepare dataset\n",
    "\n",
    "The dataset is very long, with a thousands of rows based on timepoints of data collected at a casino for each type of game offered. There are records about the number of people playing each game (HeadCount), there are numeric values for the number of tables occupied, open, and closed for each game. The time and date columns include: Date, Hour and Day of Week. I decided to ignore DayNumber because I had the DateFormat column to work with for a Time Series.\n",
    "\n",
    "I converted the DateFormat column to a date time format using the pandas to_datetime() function. I then set this column to be the index of the dataset. My plan was to use it in a time series plot.\n",
    "\n",
    "The DayOfWeek column was made up of integer values that represent the different days of the week. I decoded these values to contain categorical names of the week, with 1 = \"Sunday\" and 7 = \"Saturday\"."
   ]
  },
  {
   "cell_type": "code",
   "execution_count": 3,
   "metadata": {},
   "outputs": [],
   "source": [
    "# Convert DateFormat column to date time format\n",
    "casino_data.loc[:, 'DateFormat'] = pd.to_datetime(casino_data.loc[:, 'DateFormat'])\n",
    "casino_data.set_index('DateFormat', inplace = True) # set index on dataset\n"
   ]
  },
  {
   "cell_type": "code",
   "execution_count": 4,
   "metadata": {},
   "outputs": [],
   "source": [
    "# Define a function to decode a numerical value to a categorical value\n",
    "def Decode(x, ColumnName, Value, Name):\n",
    "    Replace = x.loc[:, ColumnName] == Value\n",
    "    x.loc[Replace, ColumnName] = Name\n",
    "    \n",
    "# Decode the integers in the Orientation column to represent the direction of the building\n",
    "Decode(casino_data, \"DayOfWeek\", 1, \"Sunday\")\n",
    "Decode(casino_data, \"DayOfWeek\", 2, \"Monday\")\n",
    "Decode(casino_data, \"DayOfWeek\", 3, \"Tuesday\")\n",
    "Decode(casino_data, \"DayOfWeek\", 4, \"Wednesday\")\n",
    "Decode(casino_data, \"DayOfWeek\", 5, \"Thursday\")\n",
    "Decode(casino_data, \"DayOfWeek\", 6, \"Friday\")\n",
    "Decode(casino_data, \"DayOfWeek\", 7, \"Saturday\")\n"
   ]
  },
  {
   "cell_type": "markdown",
   "metadata": {},
   "source": [
    "# Conclusion 1: The three most common games are Craps, Texas Hold 'Em Pker, and Big Six Wheel\n",
    "Because there were so many timepoints for a large variety of games, I wanted to identify which games were the most common and therefore contributed to the casino's capacity the most. In the plot below, I looked at the number of tables occupied vs the head count with color represented by each game code. There were three distinct games that stood out, which also provided insight into the number of tables and subsequent head count available for each type of game.\n",
    "\n",
    "**Conclusion 1:** The three most common games are Craps (CR), Texas Hold 'Em Poker (TM), and Big Six Wheel (S6). \n",
    "\n",
    "The plot below displays three distinct trends based on these three games. \n",
    "\n",
    "The yellow points, referring to the Craps data, show that with only 5 tables, you can accomodate up to about 80 people. This makes sense because the game Craps can be played with a large number of people around each table. \n",
    "\n",
    "The pink points, reffering to the Texas Hold Em data, has a more linear relationship between head count and tables occupied. However this the trend is more stepwise and less steep most likely because there typically is a limit of 5 people at each Texas Hold Em table. \n",
    "\n",
    "Lastly, the Big Six Wheel data (purple points), show a linear relationship between the head count and the number of tables occupied. I calculated correlation coefficient of this trend and there was a strong positive correlation between these two variables with a correlation coefficient of 0.96. The Big Six Wheel game is set up to accomodate a lot of people so this trend also makes sense."
   ]
  },
  {
   "cell_type": "code",
   "execution_count": 5,
   "metadata": {},
   "outputs": [
    {
     "data": {
      "text/plain": [
       "Text(0.5, 1.0, 'Head Count vs. Number of Tables Occupied \\n with Game Code by color')"
      ]
     },
     "execution_count": 5,
     "metadata": {},
     "output_type": "execute_result"
    },
    {
     "data": {
      "image/png": "[encoded data removed]",
      "text/plain": [
       "<Figure size 423x360 with 1 Axes>"
      ]
     },
     "metadata": {},
     "output_type": "display_data"
    }
   ],
   "source": [
    "# Scatter Plot\n",
    "sns.lmplot(x = 'TablesOcc', y = 'HeadCount', \n",
    "           data = casino_data, \n",
    "           hue = \"GameCode\", \n",
    "           palette=\"hls\", \n",
    "           scatter_kws={'alpha':0.3},\n",
    "           fit_reg = False)\n",
    "plt.xlabel('Number of Tables Occupied')\n",
    "plt.ylabel('Head Count')\n",
    "plt.title('Head Count vs. Number of Tables Occupied \\n with Game Code by color')"
   ]
  },
  {
   "cell_type": "markdown",
   "metadata": {},
   "source": [
    "For the remainder of my analysis, I chose to subset the dataset to only look at the three games that are the most common at the casino. Below I used boolean indexing to subset these data into three separate datasets pertaining to each game (Big Six Wheel, Craps, and Texas Hold Em)."
   ]
  },
  {
   "cell_type": "code",
   "execution_count": 7,
   "metadata": {},
   "outputs": [],
   "source": [
    "# Subset data only pertaining to the Big Six Wheel game\n",
    "s6 = (casino_data['GameCode'] == 'S6')\n",
    "s6table = casino_data[s6]\n",
    "\n",
    "# Subset data only pertaining to the Craps game\n",
    "CR = (casino_data['GameCode'] == 'CR')\n",
    "CRtable = casino_data[CR]\n",
    "\n",
    "# Subset data only pertaining to the Texas Hold Em game\n",
    "TP = (casino_data['GameCode'] == 'TP')\n",
    "TPtable = casino_data[TP]\n"
   ]
  },
  {
   "cell_type": "markdown",
   "metadata": {},
   "source": [
    "I decided to focus on the Big Six Wheel game. The first thing I was curious about was how the head count fluctuated over time. I used a time series plot with the date time index I created above with the DateFormat column against the head count for the Big Six Wheel game. However, as you can see below, this plot is extremely messy due to the large number of data points and does not elucidate a lot of new information. "
   ]
  },
  {
   "cell_type": "code",
   "execution_count": null,
   "metadata": {},
   "outputs": [],
   "source": [
    "# Time series\n",
    "s6_hc = s6table[['HeadCount']]\n",
    "\n",
    "ax = plt.figure(figsize=(30, 20)).gca() # define axis\n",
    "s6_hc.plot(ax = ax)\n",
    "ax.set_xlabel('Date')\n",
    "ax.set_ylabel('HeadCount')\n",
    "ax.set_title('Time series of Casino Head Count')"
   ]
  },
  {
   "cell_type": "markdown",
   "metadata": {},
   "source": [
    "# Conclusion 2: Head count at the Big Wheel Six tables is lowest between 3am and 11am\n",
    "\n",
    "Since the time series plot did not work out, I decided to simplify the analysis and look at what times during the day had the most head count for the Big Wheel Six game. This would be valuable information for casino owners because it can help them guage what time they will need to open up tables for the Big Wheel Six game. Below I've plotted head count against the hour during the day (0-23). \n",
    "\n",
    "**Conclusion 2:** Between 3am and 11am, head count is lowest at the Big Wheel Six tables.\n",
    "\n",
    "In the plot below, the density of the hexagons around 3am and 11am show that there are typically less than 20 people playing the Big Six Wheel game. Especially around 6am, there appears to be the darkest hexagon of the plot signifying a large density of low head count at this time."
   ]
  },
  {
   "cell_type": "code",
   "execution_count": null,
   "metadata": {},
   "outputs": [],
   "source": [
    "ax = plt.figure(figsize=(8, 6)).gca() # define axis\n",
    "s6table.plot.hexbin(x = 'Hour', y = 'HeadCount', gridsize = 10, ax = ax)\n",
    "ax.set_title('Head Count vs Hour') # Give the plot a main title\n",
    "ax.set_ylabel('Head Count')# Set text for y axis\n",
    "ax.set_xlabel('Hour')\n"
   ]
  },
  {
   "cell_type": "markdown",
   "metadata": {},
   "source": [
    "# Conclusion 3: Number of people playing The Big Six Wheel game does not depend on the day of the week\n",
    "After examining the head count vs hour data in the hexagon plot above, I was curious if this sort of trend held for each day of the week. Initially I would expect to see an increase in head count on Friday and Saturdays, however, there was no major difference between days in terms of head count.\n",
    "\n",
    "**Conclusion 3:** The number of people playing The Big Six Wheel game does not depend on the day of the week.\n",
    "\n",
    "In the faceted graphs below, I've facted the columns by the Day of the Week and graphed the head count compared to the hour of the day. Similar to the hexbin plot above, the trend holds across all days of the week.\n",
    "\n",
    "In addition, I plotted the correlation between the tables occupied against the head count for the Big Six Wheel game. The trends appear to be the same across each day of the week, with a strong positive correlation between the tables occupied and the head count."
   ]
  },
  {
   "cell_type": "code",
   "execution_count": null,
   "metadata": {},
   "outputs": [],
   "source": [
    "# Faceted grid by day of the week and plotting tables occupied vs head count for the Big Six Wheel game\n",
    "g = sns.FacetGrid(s6table, \n",
    "                  col='DayOfWeek',\n",
    "                  palette=\"Set1\")\n",
    "g = g.map(plt.scatter, \"Hour\", \"HeadCount\") \n",
    "\n",
    "# Faceted grid by day of the week and plotting tables occupied vs head count for the Big Six Wheel game\n",
    "g = sns.FacetGrid(s6table, \n",
    "                  col='DayOfWeek',\n",
    "                  palette=\"Set1\")\n",
    "g = g.map(plt.scatter, \"TablesOcc\", \"HeadCount\") "
   ]
  },
  {
   "cell_type": "markdown",
   "metadata": {},
   "source": [
    "# Summary\n",
    "\n",
    "From the head count casino dataset, I was able to determine the most common games that patrons play at the casino. Based on the game constraints, I was able to use a scatter plot to display how the number of tables occupied relates to head count in the context of how many players can play at each table based on the game. \n",
    "\n",
    "Furthermore, after honing in on The Big Six Wheel game, the head count has a meaningful trend based on the hour of the day. Between 3am and 11am, there are very few patrons playing this game so this knowledge can help provide an idea of when to open more tables for the Big Six Wheel game. Based on the hexbin plot, there do not need to be many tables open between 3am and 11am as there aren't many people playing at that time. \n",
    "\n",
    "Digging deeper to observe if head count at the Big Six Wheel game depends on the day of the week, the faceted plot displayed a consistent trend of head count for each hour on every day of the week, just like the hexbin plot. In addition, a positive trend in tables occupied and head count was observed on every day of the week as well. \n",
    "\n",
    "Overall, casino management can use these results to monitor their most popular game and when to open or close tables for the Big Six Wheel game. "
   ]
  }
 ],
 "metadata": {
  "kernelspec": {
   "display_name": "Python 3",
   "language": "python",
   "name": "python3"
  },
  "language_info": {
   "codemirror_mode": {
    "name": "ipython",
    "version": 3
   },
   "file_extension": ".py",
   "mimetype": "text/x-python",
   "name": "python",
   "nbconvert_exporter": "python",
   "pygments_lexer": "ipython3",
   "version": "3.6.8"
  }
 },
 "nbformat": 4,
 "nbformat_minor": 2
}
